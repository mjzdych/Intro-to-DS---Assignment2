{
 "cells": [
  {
   "cell_type": "markdown",
   "id": "e33322d7-3349-4a5b-8a5f-67a1b3d37154",
   "metadata": {},
   "source": [
    "**Assignment2 - Visualisations (Yozlem Ramadan and Malgorzata Zdych)**"
   ]
  },
  {
   "cell_type": "code",
   "execution_count": 1,
   "id": "d6265123-f3ce-48fc-bc2b-67dbe9bc400b",
   "metadata": {},
   "outputs": [],
   "source": [
    "import numpy as np\n",
    "import pandas as pd\n",
    "import seaborn as sns\n",
    "import sklearn\n",
    "import matplotlib.pyplot as plt\n",
    "from tabulate import tabulate"
   ]
  },
  {
   "cell_type": "code",
   "execution_count": null,
   "id": "36c57a86-0b4e-4b71-ab96-a258e797797f",
   "metadata": {},
   "outputs": [],
   "source": [
    "pip install tabulate\n"
   ]
  },
  {
   "cell_type": "code",
   "execution_count": null,
   "id": "5d32d9bc-bd82-485e-b803-bedf214cb16d",
   "metadata": {},
   "outputs": [],
   "source": [
    "file = 'Data_related_jobs_glassdoor.csv'\n",
    "df = pd.read_csv(file, header=None, names = [\n",
    "    \"company\",\n",
    "    \"job title\",\n",
    "    \"location\",\n",
    "    \"job description\",\n",
    "    \"salary estimate ($)\",\n",
    "    \"company_size\",\n",
    "    \"company_type\",\n",
    "    \"company_sector\",\n",
    "    \"company_industry\",\n",
    "    \"company_founded\",\n",
    "    \"company_revenue\",\n",
    "    \"hourly\",\n",
    "    \"rating\",\n",
    "    \"python_yn\",\n",
    "    \"spark_yn\",\n",
    "    \"azure_yn\",\n",
    "    \"aws_yn\",\n",
    "    \"excel_yn\",\n",
    "    \"machine_learning_yn\",\n",
    "    \"job_simpl\",\n",
    "    \"seniority\",\n",
    "    \"description_len\",\n",
    "    \"company_age\"\n",
    "])\n",
    "ten_rows = df.head(10)\n",
    "display(ten_rows)"
   ]
  },
  {
   "cell_type": "markdown",
   "id": "54a21929-e560-46df-8129-84f31faf3437",
   "metadata": {},
   "source": [
    "**1. Dataset overview**<br>"
   ]
  },
  {
   "cell_type": "code",
   "execution_count": null,
   "id": "6363ebf7-4c34-4690-b039-732d3e6c66da",
   "metadata": {},
   "outputs": [],
   "source": [
    "important_columns = [\"company\", \"job title\", \"location\", \"salary estimate ($)\", \"company_type\", \"company_industry\", \"company_revenue\", \"python_yn\", \"seniority\", \"company_age\"]"
   ]
  },
  {
   "cell_type": "markdown",
   "id": "fef62a17-5ffa-455d-b45b-f4430cc06897",
   "metadata": {},
   "source": [
    "**Numerical values**"
   ]
  },
  {
   "cell_type": "code",
   "execution_count": null,
   "id": "e354dda3-97df-4a32-878c-dedd527bafa2",
   "metadata": {},
   "outputs": [],
   "source": [
    "numeric_columns = ['salary estimate ($)', 'company_age']\n",
    "\n",
    "numeric_data = df.iloc[1:, [df.columns.get_loc(col) for col in numeric_columns]]\n",
    "\n",
    "numeric_data = numeric_data.apply(pd.to_numeric, errors='coerce')\n",
    "\n",
    "minimum_values = {}\n",
    "maximum_values = {}\n",
    "average_values = {}\n",
    "missing_percentages = {}\n",
    "\n",
    "for column in numeric_columns:\n",
    "    minimum_values[column] = numeric_data[column].min()\n",
    "    maximum_values[column] = numeric_data[column].max()\n",
    "    average_values[column] = round(numeric_data[column].mean(), 2)\n",
    "    missing_percentages[column] = round((numeric_data[column].isnull().sum() / len(df)) * 100, 2)\n",
    "\n",
    "summary_stats = pd.DataFrame({\n",
    "    'Minimum': minimum_values,\n",
    "    'Maximum': maximum_values,\n",
    "    'Average': average_values,\n",
    "    'Missing Percentage': missing_percentages,\n",
    "})\n",
    "\n",
    "\n",
    "print(summary_stats)\n"
   ]
  },
  {
   "cell_type": "markdown",
   "id": "9aa923aa-5ab8-4496-a235-9b28faceb0f4",
   "metadata": {},
   "source": [
    "**Non-numerical values**"
   ]
  },
  {
   "cell_type": "code",
   "execution_count": null,
   "id": "96ded645-b876-401e-b675-60436e7e2c20",
   "metadata": {},
   "outputs": [],
   "source": [
    "numeric_columns = [\"company\", \"job title\", \"location\", \"company_size\", \"company_type\", \"company_industry\", \"company_revenue\",\"python_yn\", \"seniority\",]\n",
    "\n",
    "# If the value is \"Unknown\" or \"Unknown / Non-Applicable\" for the company_size or company_revenue then it is counted as a null value\n",
    "unknown_values = [\"Unknown\", \"Unknown / Non-Applicable\"]\n",
    "df.replace(unknown_values, np.nan, inplace=True)\n",
    "\n",
    "numeric_data = df.iloc[1:, [df.columns.get_loc(col) for col in numeric_columns]]\n",
    "common_values = df[important_columns].mode().iloc[0]\n",
    "\n",
    "common_values = {}\n",
    "least_common_values = {}\n",
    "missing_percentages = {}\n",
    "\n",
    "for column in numeric_columns:\n",
    "    common_values[column] = numeric_data[column].mode().iloc[0]\n",
    "    missing_percentages[column] = round((numeric_data[column].isnull().sum() / len(df)) * 100, 2)\n",
    "    value_counts = numeric_data[column].value_counts()\n",
    "    least_common_values[column] = value_counts[value_counts == value_counts.min()].index.tolist()\n",
    "\n",
    "summary_stats = pd.DataFrame({\n",
    "    \"Common Values (Mode)\": common_values,\n",
    "    'Least Common Values': least_common_values,\n",
    "    'Missing Percentage': missing_percentages,\n",
    "})\n",
    "\n",
    "print(summary_stats)"
   ]
  },
  {
   "cell_type": "code",
   "execution_count": null,
   "id": "062d1a8d-26f1-40f1-b866-183fb31fc770",
   "metadata": {},
   "outputs": [],
   "source": []
  }
 ],
 "metadata": {
  "kernelspec": {
   "display_name": "Python 3",
   "language": "python",
   "name": "python3"
  },
  "language_info": {
   "codemirror_mode": {
    "name": "ipython",
    "version": 3
   },
   "file_extension": ".py",
   "mimetype": "text/x-python",
   "name": "python",
   "nbconvert_exporter": "python",
   "pygments_lexer": "ipython3",
   "version": "3.8.8"
  }
 },
 "nbformat": 4,
 "nbformat_minor": 5
}
